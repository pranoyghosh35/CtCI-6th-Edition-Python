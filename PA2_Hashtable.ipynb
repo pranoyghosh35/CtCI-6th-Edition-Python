{
  "nbformat": 4,
  "nbformat_minor": 0,
  "metadata": {
    "colab": {
      "provenance": [],
      "include_colab_link": true
    },
    "kernelspec": {
      "name": "python3",
      "display_name": "Python 3"
    },
    "language_info": {
      "name": "python"
    }
  },
  "cells": [
    {
      "cell_type": "markdown",
      "metadata": {
        "id": "view-in-github",
        "colab_type": "text"
      },
      "source": [
        "<a href=\"https://colab.research.google.com/github/pranoyghosh35/CtCI-6th-Edition-Python/blob/master/PA2_Hashtable.ipynb\" target=\"_parent\"><img src=\"https://colab.research.google.com/assets/colab-badge.svg\" alt=\"Open In Colab\"/></a>"
      ]
    },
    {
      "cell_type": "code",
      "source": [
        "class HashTableChain:\n",
        "    def __init__(self, size, file):\n",
        "        self.size = size\n",
        "        self.table = [None] * size\n",
        "        self.g = 31  # positive constant\n",
        "\n",
        "    # hash function to determine the index for a given key\n",
        "    def hash_function(self, key):\n",
        "        pass\n",
        "\n",
        "    # insert a key-value pair to the hash table\n",
        "    def insert(self, key, value):\n",
        "        pass\n",
        "\n",
        "    # retrieve the value for a given key\n",
        "    def search(self, key):\n",
        "        pass\n",
        "\n",
        "    def delete(self, key):\n",
        "        pass"
      ],
      "metadata": {
        "id": "3uBPFjclQAYE"
      },
      "execution_count": null,
      "outputs": []
    },
    {
      "cell_type": "code",
      "execution_count": null,
      "metadata": {
        "id": "kwVQ_Al7PZfe"
      },
      "outputs": [],
      "source": [
        "class HashTableLinProb:\n",
        "    def __init__(self, size, file):\n",
        "        self.size = size\n",
        "        self.table = [None] * size\n",
        "        self.g = 31  # positive constant\n",
        "\n",
        "    # hash function to determine the index for a given key\n",
        "    def hash_function(self, key):\n",
        "        pass\n",
        "\n",
        "    # insert a key-value pair to the hash table\n",
        "    def insert(self, key, value):\n",
        "        pass\n",
        "\n",
        "    # retrieve the value for a given key\n",
        "    def search(self, key):\n",
        "        pass\n",
        "\n",
        "    def delete(self, key):\n",
        "        pass"
      ]
    },
    {
      "cell_type": "code",
      "source": [
        "class HashTableDoubleHash:\n",
        "    def __init__(self, size, file):\n",
        "        self.size = size\n",
        "        self.table = [None] * size\n",
        "        self.g = 31  # positive constant\n",
        "\n",
        "    # hash function to determine the index for a given key\n",
        "    def hash_function(self, key):\n",
        "        pass\n",
        "\n",
        "    def secondary_hash_function(self, key):\n",
        "        pass\n",
        "\n",
        "    # insert a key-value pair to the hash table\n",
        "    def insert(self, key, value):\n",
        "        pass\n",
        "\n",
        "    # retrieve the value for a given key\n",
        "    def search(self, key):\n",
        "        pass\n",
        "\n",
        "    def delete(self, key):\n",
        "        pass"
      ],
      "metadata": {
        "id": "WJkUl0gkPk34"
      },
      "execution_count": null,
      "outputs": []
    }
  ]
}